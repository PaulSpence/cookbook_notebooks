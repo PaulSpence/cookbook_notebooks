{
 "cells": [
  {
   "cell_type": "code",
   "execution_count": 2,
   "metadata": {},
   "outputs": [
    {
     "name": "stdout",
     "output_type": "stream",
     "text": [
      "netcdf_index loaded.\n"
     ]
    },
    {
     "name": "stderr",
     "output_type": "stream",
     "text": [
      "/g/data3/hh5/public/apps/miniconda3/envs/analysis3-19.01/lib/python3.6/site-packages/dask/config.py:168: YAMLLoadWarning: calling yaml.load() without Loader=... is deprecated, as the default Loader is unsafe. Please read https://msg.pyyaml.org/load for full details.\n",
      "  data = yaml.load(f.read()) or {}\n",
      "/g/data3/hh5/public/apps/miniconda3/envs/analysis3-19.01/lib/python3.6/site-packages/distributed/config.py:20: YAMLLoadWarning: calling yaml.load() without Loader=... is deprecated, as the default Loader is unsafe. Please read https://msg.pyyaml.org/load for full details.\n",
      "  defaults = yaml.load(f)\n"
     ]
    }
   ],
   "source": [
    "%matplotlib inline\n",
    "\n",
    "import cosima_cookbook as cc\n",
    "import matplotlib.pyplot as plt\n",
    "import xarray as xr\n",
    "import numpy as np\n",
    "import pandas as pd\n",
    "import cmocean as cm\n",
    "import cartopy.crs as ccrs\n",
    "import cartopy.feature as cft\n",
    "import sys, os\n",
    "\n",
    "import logging\n",
    "logging.captureWarnings(True)\n",
    "logging.getLogger('py.warnings').setLevel(logging.ERROR)\n",
    "\n",
    "from dask.distributed import Client"
   ]
  },
  {
   "cell_type": "code",
   "execution_count": 3,
   "metadata": {},
   "outputs": [
    {
     "data": {
      "text/html": [
       "<table style=\"border: 2px solid white;\">\n",
       "<tr>\n",
       "<td style=\"vertical-align: top; border: 0px solid white\">\n",
       "<h3>Client</h3>\n",
       "<ul>\n",
       "  <li><b>Scheduler: </b>tcp://10.0.64.9:8786\n",
       "  <li><b>Dashboard: </b><a href='http://10.0.64.9:8787/status' target='_blank'>http://10.0.64.9:8787/status</a>\n",
       "</ul>\n",
       "</td>\n",
       "<td style=\"vertical-align: top; border: 0px solid white\">\n",
       "<h3>Cluster</h3>\n",
       "<ul>\n",
       "  <li><b>Workers: </b>6</li>\n",
       "  <li><b>Cores: </b>6</li>\n",
       "  <li><b>Memory: </b>24.00 GB</li>\n",
       "</ul>\n",
       "</td>\n",
       "</tr>\n",
       "</table>"
      ],
      "text/plain": [
       "<Client: scheduler='tcp://10.0.64.9:8786' processes=6 cores=6>"
      ]
     },
     "execution_count": 3,
     "metadata": {},
     "output_type": "execute_result"
    }
   ],
   "source": [
    "## This is the method we use to get around memory issues. To implement, use:\n",
    "## dask-scheduler # get the tcp code from this call in a jupyter new terminal, then run command below in a another terminal\n",
    "## dask-worker tcp://10.0.64.4:8786 --memory-limit 4e9 --nprocs 6 --nthreads 1 --local-directory /local/g40/amh157\n",
    "client=Client('tcp://10.0.64.9:8786', local_dir='/local/v45/pas561')\n",
    "client"
   ]
  },
  {
   "cell_type": "code",
   "execution_count": 4,
   "metadata": {},
   "outputs": [
    {
     "name": "stdout",
     "output_type": "stream",
     "text": [
      "/g/data1/v45/pas561/access-om2_amoc/om2_01_amoc_mask.nc\n",
      "(1, 2700, 3600)\n",
      "(2700, 3600)\n"
     ]
    },
    {
     "data": {
      "image/png": "[encoded data removed]",
      "text/plain": [
       "<Figure size 432x288 with 4 Axes>"
      ]
     },
     "metadata": {
      "needs_background": "light"
     },
     "output_type": "display_data"
    }
   ],
   "source": [
    "NYFCntrlDir = '/g/data1/v45/pas561/access-om2_amoc/'\n",
    "\n",
    "Ocean_File = os.path.join(NYFCntrlDir,'om2_01_amoc_mask.nc')\n",
    "print(Ocean_File)\n",
    "cntrl=xr.open_mfdataset(Ocean_File,engine='netcdf4',concat_dim='time',decode_times=False)\n",
    "print(cntrl.kmu.shape)\n",
    "mask=cntrl.kmu[0].load()\n",
    "\n",
    "plt.subplot(211)\n",
    "clev = np.arange(-2,2,0.5)\n",
    "plt.contourf(mask,cmap=plt.cm.PiYG,levels=clev,extend='both')\n",
    "cb=plt.colorbar(orientation='vertical',shrink = 0.7)\n",
    "\n",
    "print(mask.shape)\n",
    "#print(mask[250,:])\n",
    "\n",
    "mask=np.nan_to_num(mask)\n",
    "#print(mask[250,:])\n",
    "\n",
    "plt.subplot(212)\n",
    "clev = np.arange(-2,2,0.5)\n",
    "plt.contourf(mask,cmap=plt.cm.PiYG,levels=clev,extend='both')\n",
    "cb=plt.colorbar(orientation='vertical',shrink = 0.7)\n"
   ]
  },
  {
   "cell_type": "code",
   "execution_count": null,
   "metadata": {},
   "outputs": [
    {
     "name": "stdout",
     "output_type": "stream",
     "text": [
      "Using database sqlite:////g/data3/hh5/tmp/cosima/cosima-cookbook/cosima-cookbook.db\n"
     ]
    }
   ],
   "source": [
    "expt = '01deg_jra55v13_iaf'\n",
    "n_files = None                          ## For Testing\n",
    "time_units = 'days since 0001-01-01'   ## These are to give correct dates\n",
    "offset = None\n",
    "\n",
    "psi = cc.get_nc_variable(expt,'ocean.nc','ty_trans_rho',\n",
    "                                        n=n_files,time_units=time_units, offset=offset)\n",
    "\n",
    "psi = psi.resample(time='A').mean('time')\n",
    "\n",
    "psi=psi*mask\n",
    "\n",
    "print(psi.shape)\n",
    "\n",
    "\n",
    "print(' ------ Here is what the initial dataset looks like ------ ')\n",
    "print(psi)\n",
    "print(' --------------------------------------------------------- ')\n",
    "print(' ')\n",
    "\n",
    "psi = psi.sum('grid_xt_ocean')*1.0e-9\n",
    "psi = psi.cumsum('potrho') -  psi.sum('potrho')\n",
    "\n",
    "\n",
    "#print(' ------ Here is what the resampled dataset looks like ------ ')\n",
    "#print(' --------------------------------------------------------- ')\n",
    "#print(' ')\n",
    "\n",
    "## Plot the mean for the North Atlantic region\n",
    "#psi.mean('time').plot.contourf(levels=np.arange(-29,30,2))\n",
    "\n",
    "#of=os.path.join('amoc01.npy')\n",
    "#a=np.save(of,psi)\n",
    "\n",
    "print(psi.shape)\n",
    "## Save the whole dataset\n",
    "#psi.to_netcdf('AMOC_rho_adv_01deg.nc')"
   ]
  },
  {
   "cell_type": "code",
   "execution_count": null,
   "metadata": {},
   "outputs": [],
   "source": [
    "#of=os.path.join('amoc01.npy')\n",
    "#a=np.save('amoc01_v1.npy',psi[0:10,:,:])"
   ]
  },
  {
   "cell_type": "code",
   "execution_count": null,
   "metadata": {},
   "outputs": [],
   "source": [
    "print(psi.shape)"
   ]
  },
  {
   "cell_type": "code",
   "execution_count": null,
   "metadata": {},
   "outputs": [],
   "source": [
    "#psi.mean('time').plot.contourf(levels=np.arange(-29,30,2))\n",
    "\n",
    "## Save the whole dataset\n",
    "psi.to_netcdf('AMOC_rho_adv_01deg.nc')"
   ]
  },
  {
   "cell_type": "code",
   "execution_count": null,
   "metadata": {},
   "outputs": [],
   "source": []
  },
  {
   "cell_type": "code",
   "execution_count": null,
   "metadata": {},
   "outputs": [],
   "source": []
  }
 ],
 "metadata": {
  "kernelspec": {
   "display_name": "Python [conda env:analysis3-19.01] *",
   "language": "python",
   "name": "conda-env-analysis3-19.01-py"
  },
  "language_info": {
   "codemirror_mode": {
    "name": "ipython",
    "version": 3
   },
   "file_extension": ".py",
   "mimetype": "text/x-python",
   "name": "python",
   "nbconvert_exporter": "python",
   "pygments_lexer": "ipython3",
   "version": "3.6.7"
  }
 },
 "nbformat": 4,
 "nbformat_minor": 2
}
