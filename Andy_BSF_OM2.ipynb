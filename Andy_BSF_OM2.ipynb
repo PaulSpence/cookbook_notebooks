{
 "cells": [
  {
   "cell_type": "code",
   "execution_count": 11,
   "metadata": {},
   "outputs": [],
   "source": [
    "%matplotlib inline\n",
    "\n",
    "import cosima_cookbook as cc\n",
    "import matplotlib.pyplot as plt\n",
    "import xarray as xr\n",
    "import numpy as np\n",
    "import pandas as pd\n",
    "import cmocean as cm\n",
    "import cartopy.crs as ccrs\n",
    "import cartopy.feature as cft\n",
    "import sys, os\n",
    "\n",
    "import logging\n",
    "logging.captureWarnings(True)\n",
    "logging.getLogger('py.warnings').setLevel(logging.ERROR)\n",
    "\n",
    "from dask.distributed import Client"
   ]
  },
  {
   "cell_type": "code",
   "execution_count": 7,
   "metadata": {},
   "outputs": [
    {
     "data": {
      "text/html": [
       "<table style=\"border: 2px solid white;\">\n",
       "<tr>\n",
       "<td style=\"vertical-align: top; border: 0px solid white\">\n",
       "<h3>Client</h3>\n",
       "<ul>\n",
       "  <li><b>Scheduler: </b>tcp://10.0.64.13:8786\n",
       "  <li><b>Dashboard: </b><a href='http://10.0.64.13:8787/status' target='_blank'>http://10.0.64.13:8787/status</a>\n",
       "</ul>\n",
       "</td>\n",
       "<td style=\"vertical-align: top; border: 0px solid white\">\n",
       "<h3>Cluster</h3>\n",
       "<ul>\n",
       "  <li><b>Workers: </b>6</li>\n",
       "  <li><b>Cores: </b>6</li>\n",
       "  <li><b>Memory: </b>24.00 GB</li>\n",
       "</ul>\n",
       "</td>\n",
       "</tr>\n",
       "</table>"
      ],
      "text/plain": [
       "<Client: scheduler='tcp://10.0.64.13:8786' processes=6 cores=6>"
      ]
     },
     "execution_count": 7,
     "metadata": {},
     "output_type": "execute_result"
    }
   ],
   "source": [
    "## This is the method we use to get around memory issues. To implement, use:\n",
    "## dask-scheduler # get the tcp code from this call in a jupyter new terminal, then run command below in a another terminal\n",
    "## dask-worker tcp://10.0.64.4:8786 --memory-limit 4e9 --nprocs 6 --nthreads 1 --local-directory /local/g40/amh157\n",
    "client=Client('tcp://10.0.64.13:8786', local_dir='/local/v45/pas561')\n",
    "client"
   ]
  },
  {
   "cell_type": "code",
   "execution_count": 25,
   "metadata": {},
   "outputs": [
    {
     "name": "stdout",
     "output_type": "stream",
     "text": [
      "/g/data3/hh5/tmp/cosima/access-om2/1deg_jra55v13_iaf_spinup1_B1_lastcycle/output048/ocean/ocean_grid.nc\n",
      "(300, 360)\n"
     ]
    }
   ],
   "source": [
    "#create land sea mask\n",
    "##old fashioned way\n",
    "NYFCntrlDir = '/g/data3/hh5/tmp/cosima/access-om2/1deg_jra55v13_iaf_spinup1_B1_lastcycle/output048/ocean'\n",
    "\n",
    "Ocean_File = os.path.join(NYFCntrlDir,'ocean_grid.nc')\n",
    "print(Ocean_File)\n",
    "cntrl=xr.open_mfdataset(Ocean_File,engine='netcdf4',concat_dim='time',decode_times=False).load()\n",
    "kmu=cntrl.kmu[0].load()\n",
    "print(kmu.shape)\n",
    "\n",
    "msk=np.zeros((kmu.shape[0],kmu.shape[1]),dtype=float)\n",
    "msk.fill(np.nan)\n",
    "msk[np.where(kmu>=1)]=1"
   ]
  },
  {
   "cell_type": "code",
   "execution_count": 26,
   "metadata": {},
   "outputs": [
    {
     "name": "stdout",
     "output_type": "stream",
     "text": [
      "Using database sqlite:////g/data3/hh5/tmp/cosima/cosima-cookbook/cosima-cookbook.db\n",
      " ------ Here is what the initial dataset looks like ------ \n",
      "<xarray.DataArray 'tx_trans_int_z' (time: 720, yt_ocean: 300, xu_ocean: 360)>\n",
      "dask.array<shape=(720, 300, 360), dtype=float32, chunksize=(1, 300, 360)>\n",
      "Coordinates:\n",
      "  * yt_ocean  (yt_ocean) float64 -77.88 -77.63 -77.38 ... 88.87 89.32 89.77\n",
      "  * xu_ocean  (xu_ocean) float64 -279.0 -278.0 -277.0 -276.0 ... 78.0 79.0 80.0\n",
      "  * time      (time) datetime64[ns] 1958-01-17T12:00:00 ... 2017-12-16T12:00:00\n",
      "Attributes:\n",
      "    long_name:      T-cell i-mass transport vertically summed\n",
      "    units:          kg/s\n",
      "    valid_range:    [-1.e+20  1.e+20]\n",
      "    cell_methods:   time: mean\n",
      "    time_avg_info:  average_T1,average_T2,average_DT\n",
      "    coordinates:    geolon_c geolat_t\n",
      " --------------------------------------------------------- \n",
      " \n",
      " ------ Here is what the resampled dataset looks like ------ \n",
      "<xarray.DataArray 'tx_trans_int_z' (time: 60, yt_ocean: 300, xu_ocean: 360)>\n",
      "dask.array<shape=(60, 300, 360), dtype=float32, chunksize=(1, 300, 360)>\n",
      "Coordinates:\n",
      "  * time      (time) datetime64[ns] 1958-12-31 1959-12-31 ... 2017-12-31\n",
      "  * yt_ocean  (yt_ocean) float64 -77.88 -77.63 -77.38 ... 88.87 89.32 89.77\n",
      "  * xu_ocean  (xu_ocean) float64 -279.0 -278.0 -277.0 -276.0 ... 78.0 79.0 80.0\n",
      " --------------------------------------------------------- \n",
      " \n",
      " ------ Here is what the North Atl dataset looks like ------ \n",
      "<xarray.DataArray 'tx_trans_int_z' (time: 60, yt_ocean: 184, xu_ocean: 121)>\n",
      "dask.array<shape=(60, 184, 121), dtype=float32, chunksize=(1, 184, 121)>\n",
      "Coordinates:\n",
      "  * time      (time) datetime64[ns] 1958-12-31 1959-12-31 ... 2017-12-31\n",
      "  * yt_ocean  (yt_ocean) float64 -34.49 -33.5 -32.5 -31.5 ... 68.89 69.35 69.81\n",
      "  * xu_ocean  (xu_ocean) float64 -100.0 -99.0 -98.0 -97.0 ... 18.0 19.0 20.0\n",
      " --------------------------------------------------------- \n",
      " \n"
     ]
    },
    {
     "data": {
      "image/png": "[encoded data removed]",
      "text/plain": [
       "<Figure size 432x288 with 2 Axes>"
      ]
     },
     "metadata": {
      "needs_background": "light"
     },
     "output_type": "display_data"
    }
   ],
   "source": [
    "expt = '1deg_jra55v13_iaf_spinup1_B1'  ## choosing our 1 degree experiment\n",
    "n_files = -12                          ## Last 12 files is last 60 years\n",
    "time_units = 'days since 1718-01-01'   ## These are to give correct dates\n",
    "offset = -87658\n",
    "\n",
    "## Load monthly zonal barotropic transport\n",
    "tx_trans_int_z = cc.get_nc_variable(expt,'ocean_month.nc','tx_trans_int_z',\n",
    "                                        n=n_files,time_units=time_units, offset=offset)\n",
    "\n",
    "print(' ------ Here is what the initial dataset looks like ------ ')\n",
    "print(tx_trans_int_z)\n",
    "print(' --------------------------------------------------------- ')\n",
    "print(' ')\n",
    "\n",
    "tx_trans_annual = tx_trans_int_z.resample(time='A').mean('time')\n",
    "\n",
    "print(' ------ Here is what the resampled dataset looks like ------ ')\n",
    "print(tx_trans_annual)\n",
    "print(' --------------------------------------------------------- ')\n",
    "print(' ')\n",
    "\n",
    "BSF = tx_trans_annual.cumsum('yt_ocean')/1e6/1036\n",
    "BSF = BSF - BSF.sel(xu_ocean=0,method='nearest').sel(yt_ocean=20,method='nearest')\n",
    "\n",
    "## Chop out the area I'm interested in\n",
    "BSF_NAtl = BSF.sel(xu_ocean = slice(-100,20)).sel(yt_ocean = slice(-35,70))\n",
    "print(' ------ Here is what the North Atl dataset looks like ------ ')\n",
    "print(BSF_NAtl)\n",
    "print(' --------------------------------------------------------- ')\n",
    "print(' ')\n",
    "\n",
    "BSF=-BSF*msk\n",
    "\n",
    "## Plot the mean for the North Atlantic region\n",
    "BSF_NAtl.mean('time').plot.contourf(levels=np.arange(-29,30,2))\n",
    "\n",
    "## Save the whole dataset\n",
    "BSF.to_netcdf('BSF_1deg.nc')\n"
   ]
  },
  {
   "cell_type": "code",
   "execution_count": 27,
   "metadata": {},
   "outputs": [
    {
     "name": "stdout",
     "output_type": "stream",
     "text": [
      "/g/data3/hh5/tmp/cosima/access-om2-025/025deg_jra55v13_iaf_gmredi6/output153/ocean/ocean_grid.nc\n",
      "(1080, 1440)\n"
     ]
    }
   ],
   "source": [
    "#create land sea mask\n",
    "##old fashioned way\n",
    "NYFCntrlDir = '/g/data3/hh5/tmp/cosima/access-om2-025/025deg_jra55v13_iaf_gmredi6/output153/ocean'\n",
    "\n",
    "Ocean_File = os.path.join(NYFCntrlDir,'ocean_grid.nc')\n",
    "print(Ocean_File)\n",
    "cntrl=xr.open_mfdataset(Ocean_File,engine='netcdf4',concat_dim='time',decode_times=False).load()\n",
    "kmu=cntrl.kmu[0].load()\n",
    "print(kmu.shape)\n",
    "\n",
    "msk=np.zeros((kmu.shape[0],kmu.shape[1]),dtype=float)\n",
    "msk.fill(np.nan)\n",
    "msk[np.where(kmu>=1)]=1"
   ]
  },
  {
   "cell_type": "code",
   "execution_count": 28,
   "metadata": {},
   "outputs": [
    {
     "name": "stdout",
     "output_type": "stream",
     "text": [
      "Using database sqlite:////g/data3/hh5/tmp/cosima/cosima-cookbook/cosima-cookbook.db\n",
      " ------ Here is what the initial dataset looks like ------ \n",
      "<xarray.DataArray 'tx_trans_int_z' (time: 720, yt_ocean: 1080, xu_ocean: 1440)>\n",
      "dask.array<shape=(720, 1080, 1440), dtype=float32, chunksize=(1, 540, 720)>\n",
      "Coordinates:\n",
      "  * yt_ocean  (yt_ocean) float64 -81.08 -80.97 -80.87 ... 89.74 89.84 89.95\n",
      "  * xu_ocean  (xu_ocean) float64 -279.8 -279.5 -279.2 -279.0 ... 79.5 79.75 80.0\n",
      "  * time      (time) datetime64[ns] 1958-01-15T12:00:00 ... 2017-12-14T12:00:00\n",
      "Attributes:\n",
      "    long_name:      T-cell i-mass transport vertically summed\n",
      "    units:          kg/s\n",
      "    valid_range:    [-1.e+20  1.e+20]\n",
      "    cell_methods:   time: mean\n",
      "    time_avg_info:  average_T1,average_T2,average_DT\n",
      "    coordinates:    geolon_c geolat_t\n",
      " --------------------------------------------------------- \n",
      " \n",
      " ------ Here is what the resampled dataset looks like ------ \n",
      "<xarray.DataArray 'tx_trans_int_z' (time: 60, yt_ocean: 1080, xu_ocean: 1440)>\n",
      "dask.array<shape=(60, 1080, 1440), dtype=float32, chunksize=(1, 540, 720)>\n",
      "Coordinates:\n",
      "  * time      (time) datetime64[ns] 1958-12-31 1959-12-31 ... 2017-12-31\n",
      "  * yt_ocean  (yt_ocean) float64 -81.08 -80.97 -80.87 ... 89.74 89.84 89.95\n",
      "  * xu_ocean  (xu_ocean) float64 -279.8 -279.5 -279.2 -279.0 ... 79.5 79.75 80.0\n",
      " --------------------------------------------------------- \n",
      " \n",
      " ------ Here is what the North Atl dataset looks like ------ \n",
      "<xarray.DataArray 'tx_trans_int_z' (time: 60, yt_ocean: 543, xu_ocean: 481)>\n",
      "dask.array<shape=(60, 543, 481), dtype=float32, chunksize=(1, 192, 1)>\n",
      "Coordinates:\n",
      "  * time      (time) datetime64[ns] 1958-12-31 1959-12-31 ... 2017-12-31\n",
      "  * yt_ocean  (yt_ocean) float64 -34.98 -34.77 -34.56 ... 69.78 69.88 69.99\n",
      "  * xu_ocean  (xu_ocean) float64 -100.0 -99.75 -99.5 -99.25 ... 19.5 19.75 20.0\n",
      " --------------------------------------------------------- \n",
      " \n"
     ]
    },
    {
     "data": {
      "image/png": "[encoded data removed]",
      "text/plain": [
       "<Figure size 432x288 with 2 Axes>"
      ]
     },
     "metadata": {
      "needs_background": "light"
     },
     "output_type": "display_data"
    }
   ],
   "source": [
    "expt = '025deg_jra55v13_iaf_gmredi6'\n",
    "n_files = -34                          ## Last 30 files is last 60 years\n",
    "time_units = 'days since 1718-01-01'   ## These are to give correct dates\n",
    "offset = -87658\n",
    "\n",
    "## Load monthly zonal barotropic transport\n",
    "tx_trans_int_z = cc.get_nc_variable(expt,'ocean_month.nc','tx_trans_int_z',\n",
    "                                        n=n_files,time_units=time_units, offset=offset)\n",
    "\n",
    "print(' ------ Here is what the initial dataset looks like ------ ')\n",
    "print(tx_trans_int_z)\n",
    "print(' --------------------------------------------------------- ')\n",
    "print(' ')\n",
    "\n",
    "tx_trans_annual = tx_trans_int_z.resample(time='A').mean('time')\n",
    "\n",
    "print(' ------ Here is what the resampled dataset looks like ------ ')\n",
    "print(tx_trans_annual)\n",
    "print(' --------------------------------------------------------- ')\n",
    "print(' ')\n",
    "\n",
    "BSF = tx_trans_annual.cumsum('yt_ocean')/1e6/1036\n",
    "#BSF = BSF - BSF.sel(xu_ocean=0,method='nearest').sel(yt_ocean=20,method='nearest')\n",
    "\n",
    "## Chop out the area I'm interested in\n",
    "BSF_NAtl = BSF.sel(xu_ocean = slice(-100,20)).sel(yt_ocean = slice(-35,70))\n",
    "print(' ------ Here is what the North Atl dataset looks like ------ ')\n",
    "print(BSF_NAtl)\n",
    "print(' --------------------------------------------------------- ')\n",
    "print(' ')\n",
    "\n",
    "BSF=-BSF*msk\n",
    "\n",
    "## Plot the mean for the North Atlantic region\n",
    "BSF_NAtl.mean('time').plot.contourf(levels=np.arange(-29,30,2))\n",
    "\n",
    "## Save the whole dataset\n",
    "BSF.to_netcdf('BSF_025deg_no0.nc')"
   ]
  },
  {
   "cell_type": "code",
   "execution_count": 22,
   "metadata": {},
   "outputs": [
    {
     "name": "stdout",
     "output_type": "stream",
     "text": [
      "/g/data3/hh5/tmp/cosima/access-om2-01/01deg_jra55v13_iaf/output001/ocean/ocean_grid.nc\n",
      "(2700, 3600)\n"
     ]
    }
   ],
   "source": [
    "#create land sea mask\n",
    "##old fashioned way\n",
    "NYFCntrlDir = '/g/data3/hh5/tmp/cosima/access-om2-01/01deg_jra55v13_iaf/output001/ocean'\n",
    "\n",
    "Ocean_File = os.path.join(NYFCntrlDir,'ocean_grid.nc')\n",
    "print(Ocean_File)\n",
    "cntrl=xr.open_mfdataset(Ocean_File,engine='netcdf4',concat_dim='time',decode_times=False).load()\n",
    "kmu=cntrl.kmu[0].load()\n",
    "print(kmu.shape)\n",
    "\n",
    "msk=np.zeros((kmu.shape[0],kmu.shape[1]),dtype=float)\n",
    "msk.fill(np.nan)\n",
    "msk[np.where(kmu>=1)]=1"
   ]
  },
  {
   "cell_type": "code",
   "execution_count": 24,
   "metadata": {},
   "outputs": [
    {
     "name": "stdout",
     "output_type": "stream",
     "text": [
      "Using database sqlite:////g/data3/hh5/tmp/cosima/cosima-cookbook/cosima-cookbook.db\n",
      " ------ Here is what the initial dataset looks like ------ \n",
      "<xarray.DataArray 'tx_trans_int_z' (time: 396, yt_ocean: 2700, xu_ocean: 3600)>\n",
      "dask.array<shape=(396, 2700, 3600), dtype=float32, chunksize=(1, 675, 900)>\n",
      "Coordinates:\n",
      "  * yt_ocean  (yt_ocean) float64 -81.11 -81.07 -81.02 ... 89.89 89.94 89.98\n",
      "  * xu_ocean  (xu_ocean) float64 -279.9 -279.8 -279.7 -279.6 ... 79.8 79.9 80.0\n",
      "  * time      (time) datetime64[ns] 1985-01-14T12:00:00 ... 2017-12-14T12:00:00\n",
      "Attributes:\n",
      "    long_name:      T-cell i-mass transport vertically summed\n",
      "    units:          kg/s\n",
      "    valid_range:    [-1.e+20  1.e+20]\n",
      "    cell_methods:   time: mean\n",
      "    time_avg_info:  average_T1,average_T2,average_DT\n",
      "    coordinates:    geolon_c geolat_t\n",
      " --------------------------------------------------------- \n",
      " \n",
      " ------ Here is what the resampled dataset looks like ------ \n",
      "<xarray.DataArray 'tx_trans_int_z' (time: 33, yt_ocean: 2700, xu_ocean: 3600)>\n",
      "dask.array<shape=(33, 2700, 3600), dtype=float32, chunksize=(1, 675, 900)>\n",
      "Coordinates:\n",
      "  * time      (time) datetime64[ns] 1985-12-31 1986-12-31 ... 2017-12-31\n",
      "  * yt_ocean  (yt_ocean) float64 -81.11 -81.07 -81.02 ... 89.89 89.94 89.98\n",
      "  * xu_ocean  (xu_ocean) float64 -279.9 -279.8 -279.7 -279.6 ... 79.8 79.9 80.0\n",
      " --------------------------------------------------------- \n",
      " \n",
      " ------ Here is what the North Atl dataset looks like ------ \n",
      "<xarray.DataArray 'tx_trans_int_z' (time: 33, yt_ocean: 1356, xu_ocean: 1200)>\n",
      "dask.array<shape=(33, 1356, 1200), dtype=float32, chunksize=(1, 479, 900)>\n",
      "Coordinates:\n",
      "  * time      (time) datetime64[ns] 1985-12-31 1986-12-31 ... 2017-12-31\n",
      "  * yt_ocean  (yt_ocean) float64 -34.96 -34.87 -34.79 ... 69.92 69.96 70.0\n",
      "  * xu_ocean  (xu_ocean) float64 -99.9 -99.8 -99.7 -99.6 ... 19.7 19.8 19.9 20.0\n",
      " --------------------------------------------------------- \n",
      " \n"
     ]
    },
    {
     "data": {
      "image/png": "[encoded data removed]",
      "text/plain": [
       "<Figure size 432x288 with 2 Axes>"
      ]
     },
     "metadata": {
      "needs_background": "light"
     },
     "output_type": "display_data"
    }
   ],
   "source": [
    "expt = '01deg_jra55v13_iaf'\n",
    "n_files = None                          ## For Testing\n",
    "time_units = 'days since 0001-01-01'   ## These are to give correct dates\n",
    "offset = None\n",
    "\n",
    "## Load monthly zonal barotropic transport\n",
    "tx_trans_int_z = cc.get_nc_variable(expt,'ocean_month.nc','tx_trans_int_z',\n",
    "                                        n=n_files,time_units=time_units, offset=offset)\n",
    "\n",
    "print(' ------ Here is what the initial dataset looks like ------ ')\n",
    "print(tx_trans_int_z)\n",
    "print(' --------------------------------------------------------- ')\n",
    "print(' ')\n",
    "\n",
    "tx_trans_annual = tx_trans_int_z.resample(time='A').mean('time')\n",
    "\n",
    "print(' ------ Here is what the resampled dataset looks like ------ ')\n",
    "print(tx_trans_annual)\n",
    "print(' --------------------------------------------------------- ')\n",
    "print(' ')\n",
    "\n",
    "BSF = tx_trans_annual.cumsum('yt_ocean')/1e6/1036\n",
    "BSF = BSF - BSF.sel(xu_ocean=0,method='nearest').sel(yt_ocean=20,method='nearest')\n",
    "\n",
    "## Chop out the area I'm interested in\n",
    "BSF_NAtl = BSF.sel(xu_ocean = slice(-100,20)).sel(yt_ocean = slice(-35,70))\n",
    "print(' ------ Here is what the North Atl dataset looks like ------ ')\n",
    "print(BSF_NAtl)\n",
    "print(' --------------------------------------------------------- ')\n",
    "print(' ')\n",
    "\n",
    "BSF=-BSF*msk\n",
    "\n",
    "## Plot the mean for the North Atlantic region\n",
    "BSF_NAtl.mean('time').plot.contourf(levels=np.arange(-29,30,2))\n",
    "\n",
    "## Save the whole dataset\n",
    "BSF.to_netcdf('BSF_01deg.nc')"
   ]
  },
  {
   "cell_type": "code",
   "execution_count": null,
   "metadata": {},
   "outputs": [],
   "source": []
  },
  {
   "cell_type": "code",
   "execution_count": null,
   "metadata": {},
   "outputs": [],
   "source": []
  }
 ],
 "metadata": {
  "kernelspec": {
   "display_name": "Python [conda env:analysis3-19.01] *",
   "language": "python",
   "name": "conda-env-analysis3-19.01-py"
  },
  "language_info": {
   "codemirror_mode": {
    "name": "ipython",
    "version": 3
   },
   "file_extension": ".py",
   "mimetype": "text/x-python",
   "name": "python",
   "nbconvert_exporter": "python",
   "pygments_lexer": "ipython3",
   "version": "3.6.7"
  }
 },
 "nbformat": 4,
 "nbformat_minor": 2
}
